{
 "cells": [
  {
   "cell_type": "markdown",
   "metadata": {},
   "source": [
    "# Tarefa-01. MO432.\n",
    "\n",
    "## Patrick de Carvalho Tavares Rezende Ferreira - 175480"
   ]
  },
  {
   "cell_type": "code",
   "execution_count": 19,
   "metadata": {},
   "outputs": [],
   "source": [
    "from matplotlib import pyplot as plt\n",
    "from numpy import hstack, add\n",
    "from pandas import read_csv, get_dummies\n",
    "from sklearn.decomposition import PCA\n",
    "from sklearn.linear_model import LinearRegression\n",
    "from sklearn.metrics import mean_squared_error, mean_absolute_error, make_scorer\n",
    "from sklearn.model_selection import ShuffleSplit, cross_validate\n",
    "from sklearn.preprocessing import StandardScaler"
   ]
  },
  {
   "cell_type": "markdown",
   "metadata": {},
   "source": [
    "### Item 1 - Input de dados CSV\n",
    "\n",
    "Primeiramente, lemos o arquivo CSV com os dados categóricos e não categóricos a serem trabalhados."
   ]
  },
  {
   "cell_type": "code",
   "execution_count": 20,
   "metadata": {},
   "outputs": [],
   "source": [
    "data = read_csv(\"car-data.csv\")"
   ]
  },
  {
   "cell_type": "markdown",
   "metadata": {},
   "source": [
    "### Item 2 - Dados categóricos para \"dummy variables\"\n",
    "\n",
    "Abaixo fazemos a impressão de alguns dos atributos originais do arquivo CSV e dos atributos após a conversão de atributos categóricos em \"dummy variables\". O tamanho original também é exibido abaixo de cada impressão, sendo de 301 amostras e 9 features para o arquivo original, e 301 amostras com 110 features após a conversão das variáveis categóricas em \"dummy variables\"."
   ]
  },
  {
   "cell_type": "code",
   "execution_count": 21,
   "metadata": {},
   "outputs": [
    {
     "name": "stdout",
     "output_type": "stream",
     "text": [
      "    Car_Name  Year  Selling_Price  Present_Price  Kms_Driven Fuel_Type  \\\n",
      "0       ritz  2014           3.35           5.59       27000    Petrol   \n",
      "1        sx4  2013           4.75           9.54       43000    Diesel   \n",
      "2       ciaz  2017           7.25           9.85        6900    Petrol   \n",
      "3    wagon r  2011           2.85           4.15        5200    Petrol   \n",
      "4      swift  2014           4.60           6.87       42450    Diesel   \n",
      "..       ...   ...            ...            ...         ...       ...   \n",
      "296     city  2016           9.50          11.60       33988    Diesel   \n",
      "297     brio  2015           4.00           5.90       60000    Petrol   \n",
      "298     city  2009           3.35          11.00       87934    Petrol   \n",
      "299     city  2017          11.50          12.50        9000    Diesel   \n",
      "300     brio  2016           5.30           5.90        5464    Petrol   \n",
      "\n",
      "    Seller_Type Transmission  Owner  \n",
      "0        Dealer       Manual      0  \n",
      "1        Dealer       Manual      0  \n",
      "2        Dealer       Manual      0  \n",
      "3        Dealer       Manual      0  \n",
      "4        Dealer       Manual      0  \n",
      "..          ...          ...    ...  \n",
      "296      Dealer       Manual      0  \n",
      "297      Dealer       Manual      0  \n",
      "298      Dealer       Manual      0  \n",
      "299      Dealer       Manual      0  \n",
      "300      Dealer       Manual      0  \n",
      "\n",
      "[301 rows x 9 columns]\n",
      "\n",
      "\n",
      "==============================================\n",
      "\n",
      "\n",
      "     Year  Selling_Price  Present_Price  Kms_Driven  Owner  Car_Name_800  \\\n",
      "0    2014           3.35           5.59       27000      0             0   \n",
      "1    2013           4.75           9.54       43000      0             0   \n",
      "2    2017           7.25           9.85        6900      0             0   \n",
      "3    2011           2.85           4.15        5200      0             0   \n",
      "4    2014           4.60           6.87       42450      0             0   \n",
      "..    ...            ...            ...         ...    ...           ...   \n",
      "296  2016           9.50          11.60       33988      0             0   \n",
      "297  2015           4.00           5.90       60000      0             0   \n",
      "298  2009           3.35          11.00       87934      0             0   \n",
      "299  2017          11.50          12.50        9000      0             0   \n",
      "300  2016           5.30           5.90        5464      0             0   \n",
      "\n",
      "     Car_Name_Activa 3g  Car_Name_Activa 4g  Car_Name_Bajaj  ct 100  \\\n",
      "0                     0                   0                       0   \n",
      "1                     0                   0                       0   \n",
      "2                     0                   0                       0   \n",
      "3                     0                   0                       0   \n",
      "4                     0                   0                       0   \n",
      "..                  ...                 ...                     ...   \n",
      "296                   0                   0                       0   \n",
      "297                   0                   0                       0   \n",
      "298                   0                   0                       0   \n",
      "299                   0                   0                       0   \n",
      "300                   0                   0                       0   \n",
      "\n",
      "     Car_Name_Bajaj Avenger 150  ...  Car_Name_vitara brezza  \\\n",
      "0                             0  ...                       0   \n",
      "1                             0  ...                       0   \n",
      "2                             0  ...                       0   \n",
      "3                             0  ...                       0   \n",
      "4                             0  ...                       0   \n",
      "..                          ...  ...                     ...   \n",
      "296                           0  ...                       0   \n",
      "297                           0  ...                       0   \n",
      "298                           0  ...                       0   \n",
      "299                           0  ...                       0   \n",
      "300                           0  ...                       0   \n",
      "\n",
      "     Car_Name_wagon r  Car_Name_xcent  Fuel_Type_CNG  Fuel_Type_Diesel  \\\n",
      "0                   0               0              0                 0   \n",
      "1                   0               0              0                 1   \n",
      "2                   0               0              0                 0   \n",
      "3                   1               0              0                 0   \n",
      "4                   0               0              0                 1   \n",
      "..                ...             ...            ...               ...   \n",
      "296                 0               0              0                 1   \n",
      "297                 0               0              0                 0   \n",
      "298                 0               0              0                 0   \n",
      "299                 0               0              0                 1   \n",
      "300                 0               0              0                 0   \n",
      "\n",
      "     Fuel_Type_Petrol  Seller_Type_Dealer  Seller_Type_Individual  \\\n",
      "0                   1                   1                       0   \n",
      "1                   0                   1                       0   \n",
      "2                   1                   1                       0   \n",
      "3                   1                   1                       0   \n",
      "4                   0                   1                       0   \n",
      "..                ...                 ...                     ...   \n",
      "296                 0                   1                       0   \n",
      "297                 1                   1                       0   \n",
      "298                 1                   1                       0   \n",
      "299                 0                   1                       0   \n",
      "300                 1                   1                       0   \n",
      "\n",
      "     Transmission_Automatic  Transmission_Manual  \n",
      "0                         0                    1  \n",
      "1                         0                    1  \n",
      "2                         0                    1  \n",
      "3                         0                    1  \n",
      "4                         0                    1  \n",
      "..                      ...                  ...  \n",
      "296                       0                    1  \n",
      "297                       0                    1  \n",
      "298                       0                    1  \n",
      "299                       0                    1  \n",
      "300                       0                    1  \n",
      "\n",
      "[301 rows x 110 columns]\n"
     ]
    }
   ],
   "source": [
    "print(data)\n",
    "print(\"\\n\\n==============================================\\n\\n\")\n",
    "print(get_dummies(data))\n",
    "get_dummies(data).to_csv(\"car-with-dummies.csv\")\n",
    "\n",
    "# OneHot encoding para converter vriaveis ctegoricas em dummy variables.\n",
    "data = get_dummies(data)\n",
    "\n",
    "# Separamos dados de entrada dos dados de saida.\n",
    "# A coluna a remover (\"i\") eh a do selling_price.\n",
    "i = 1\n",
    "X_data = hstack((data.to_numpy()[:, 0:i], data.to_numpy()[:, i + 1:]))\n",
    "# X_data = X_data.T\n",
    "y_data = data.to_numpy()[:, i]"
   ]
  },
  {
   "cell_type": "markdown",
   "metadata": {},
   "source": [
    "### Item 3 - Centering e Scaling dos dados\n",
    "\n",
    "Abaixo fazemos a centralização dos dados em função da média de cada coluna de features e o escalamento de cada coluna também em função do próprio desvio padrão, de forma que todas as entradas estejam em função de quantos desvios padrão elas representam para cada features. Isto ajuda a regressão a ponderar o peso que dá sobre as variações em cada entrada."
   ]
  },
  {
   "cell_type": "code",
   "execution_count": 22,
   "metadata": {},
   "outputs": [
    {
     "name": "stdout",
     "output_type": "stream",
     "text": [
      "\n",
      "Médias do Scaler em cada coluna: \n",
      " [2.01362791e+03 7.62847176e+00 3.69472060e+04 4.31893688e-02\n",
      " 3.32225914e-03 6.64451827e-03 3.32225914e-03 3.32225914e-03\n",
      " 3.32225914e-03 3.32225914e-03 9.96677741e-03 6.64451827e-03\n",
      " 3.32225914e-03 3.32225914e-03 6.64451827e-03 3.32225914e-03\n",
      " 3.32225914e-03 3.32225914e-03 1.32890365e-02 6.64451827e-03\n",
      " 9.96677741e-03 3.32225914e-03 3.32225914e-03 3.32225914e-03\n",
      " 6.64451827e-03 3.32225914e-03 3.32225914e-03 3.32225914e-03\n",
      " 3.32225914e-03 6.64451827e-03 3.32225914e-03 3.32225914e-03\n",
      " 6.64451827e-03 3.32225914e-03 3.32225914e-03 6.64451827e-03\n",
      " 9.96677741e-03 6.64451827e-03 3.32225914e-03 3.32225914e-03\n",
      " 6.64451827e-03 6.64451827e-03 3.32225914e-03 6.64451827e-03\n",
      " 3.32225914e-03 3.32225914e-03 6.64451827e-03 3.32225914e-03\n",
      " 3.32225914e-03 3.32225914e-03 2.32558140e-02 6.64451827e-03\n",
      " 1.32890365e-02 9.96677741e-03 3.32225914e-03 9.96677741e-03\n",
      " 6.64451827e-03 3.32225914e-03 3.32225914e-03 3.32225914e-03\n",
      " 3.32225914e-03 6.64451827e-03 3.32225914e-03 3.32225914e-03\n",
      " 9.96677741e-03 3.32225914e-03 3.32225914e-03 1.66112957e-02\n",
      " 2.32558140e-02 3.32225914e-03 3.32225914e-02 3.32225914e-03\n",
      " 2.99003322e-02 8.63787375e-02 3.32225914e-03 5.31561462e-02\n",
      " 9.96677741e-03 1.32890365e-02 6.64451827e-03 1.99335548e-02\n",
      " 1.99335548e-02 9.96677741e-03 9.96677741e-03 3.32225914e-03\n",
      " 1.32890365e-02 3.65448505e-02 2.65780731e-02 1.66112957e-02\n",
      " 2.99003322e-02 3.32225914e-03 2.99003322e-02 2.32558140e-02\n",
      " 3.32225914e-03 3.32225914e-03 1.32890365e-02 3.32225914e-03\n",
      " 1.66112957e-02 1.99335548e-02 4.65116279e-02 3.32225914e-03\n",
      " 1.32890365e-02 9.96677741e-03 6.64451827e-03 1.99335548e-01\n",
      " 7.94019934e-01 6.47840532e-01 3.52159468e-01 1.32890365e-01\n",
      " 8.67109635e-01]\n",
      "\n",
      "Dados centrados e \"escalados\": \n",
      " [[ 0.128897   -0.23621461 -0.25622446 ... -0.73728539 -0.39148015\n",
      "   0.39148015]\n",
      " [-0.21751369  0.22150462  0.1559105  ... -0.73728539 -0.39148015\n",
      "   0.39148015]\n",
      " [ 1.16812909  0.25742689 -0.77396901 ... -0.73728539 -0.39148015\n",
      "   0.39148015]\n",
      " ...\n",
      " [-1.60315648  0.39068691  1.31334003 ... -0.73728539 -0.39148015\n",
      "   0.39148015]\n",
      " [ 1.16812909  0.56450434 -0.7198763  ... -0.73728539 -0.39148015\n",
      "   0.39148015]\n",
      " [ 0.8217184  -0.20029235 -0.81095812 ... -0.73728539 -0.39148015\n",
      "   0.39148015]]\n"
     ]
    }
   ],
   "source": [
    "scaler = StandardScaler()\n",
    "scaler.fit(X_data)\n",
    "\n",
    "print(\"\\nMédias do Scaler em cada coluna: \\n\", scaler.mean_)\n",
    "print('\\nDados centrados e \"escalados\": \\n', scaler.transform(X_data))\n",
    "\n",
    "X_data_scaled = scaler.transform(X_data)"
   ]
  },
  {
   "cell_type": "markdown",
   "metadata": {},
   "source": [
    "### Item 4 - PCA\n",
    "\n",
    "Abaixo realizamos a redução dos atributos de entrada através da técnica de \"principal components analisys\" (PCA).\n",
    "Fazemos este processo devido ao fato que a maior parte dos dados de entrada geralmente não contribui com informações de alta relevância para os dados de saída, e para datasets de tamanho relativamente pequeno como o que estamos lidando, uma quantidade elevada de coeficientes a ajustar poderia produzir um modelo sub ajustado, sem informação sufcientemente grande para ajustar cada coeficiente.\n",
    "\n",
    "Para explicar 90% da variância, o PCA exige que utilizemos 89 componentes de entrada, mas este ainda é um valor muito alto que roduz coeficientes lineares altos ao final da regressão devido à pequena quantidade de dados para esta quantidade de atributos.\n",
    "\n",
    "Graficamente porém é possível perceber que a curva de relevância para a variância em relação a cada componente tem seu \"joelho\" por volta de 10 componentes no \"scree plot\" (gráficos exibidos abaixo\"). Realizamos o PCA então com 15 componentes, para utilizarmos ãpenas as componentes de maior relevância. "
   ]
  },
  {
   "cell_type": "code",
   "execution_count": 23,
   "metadata": {},
   "outputs": [
    {
     "name": "stdout",
     "output_type": "stream",
     "text": [
      "Números de componentes do PCA para 90% de explicação da variância:  89\n"
     ]
    },
    {
     "data": {
      "image/png": "[encoded data removed]",
      "text/plain": [
       "<Figure size 432x288 with 1 Axes>"
      ]
     },
     "metadata": {
      "needs_background": "light"
     },
     "output_type": "display_data"
    },
    {
     "data": {
      "image/png": "[encoded data removed]",
      "text/plain": [
       "<Figure size 432x288 with 1 Axes>"
      ]
     },
     "metadata": {
      "needs_background": "light"
     },
     "output_type": "display_data"
    }
   ],
   "source": [
    "pca = PCA(n_components=0.9, svd_solver=\"full\")\n",
    "pca.fit(X_data_scaled)\n",
    "\n",
    "print(\"Números de componentes do PCA para 90% de explicação da variância: \", pca.n_components_)\n",
    "\n",
    "plt.plot(pca.explained_variance_ratio_)\n",
    "plt.title('Taxa de explicação da variância por componente')\n",
    "plt.ylabel('Taxa de explicação da Variância')\n",
    "plt.xlabel('Número de Componentes')\n",
    "plt.show()\n",
    "\n",
    "plt.plot(add.accumulate(pca.explained_variance_ratio_))\n",
    "plt.title('Explicação da variância acumulada por componente')\n",
    "plt.ylabel('Taxa de explicação acumulada da Variância')\n",
    "plt.xlabel('Número de Componentes')\n",
    "plt.show()\n",
    "\n",
    "# Obtido graficamente\n",
    "pca = PCA(n_components=15)\n",
    "pca.fit(X_data_scaled)\n",
    "X_data_pca = pca.transform(X_data_scaled)"
   ]
  },
  {
   "cell_type": "markdown",
   "metadata": {},
   "source": [
    "### Item 5 - Regressão Linear\n",
    "\n",
    "Fazemos agora a regressão linear em função dos dados anteriormente tratados. Utilizamos o shuffle splitter do sklearn para repartir os dados em arranjos de 70/30 para treino e teste, respectivamente, e em 5 embaralhamentos diferentes. A validação cruzada também do sklearn é configurada para avaliar a RMSE e a MAE da regressão, cujos valores individuais para cada uma das 5 repetições e também as médias são exibidas abaixo.\n",
    "\n",
    "Utilizando o PCA com 15 componentes, o erro RMSE médio foi de 2,47 dólares e o MAE foi de 1,60 dólares (supondo que o valor de saída em \"y\" eram dólares). Isto é um resultado que demonstra a utilidade do PCA, uma vez que a regressão com 89 componentes retornava erros acima de $10^6$."
   ]
  },
  {
   "cell_type": "code",
   "execution_count": 24,
   "metadata": {},
   "outputs": [
    {
     "name": "stdout",
     "output_type": "stream",
     "text": [
      "\n",
      "RMSE para cada repetição: \n",
      " [2.56438532 2.69903945 2.32235582 1.93230384 2.84091571]\n",
      "\n",
      "\n",
      "MAE para cada repetição: \n",
      " [1.74302273 1.66889463 1.65069842 1.29538618 1.62432251]\n",
      "\n",
      "\n",
      "RMSE médio:  2.471800027566019\n",
      "\n",
      "MAE médio:  1.596464895253393\n"
     ]
    }
   ],
   "source": [
    "shuffle_splitter = ShuffleSplit(n_splits=5, test_size=0.3, random_state=1234)\n",
    "regressor = LinearRegression()\n",
    "cv_results = cross_validate(regressor, X_data_pca, y_data,\n",
    "                            cv=shuffle_splitter,\n",
    "                            scoring={\"MSE\": make_scorer(mean_squared_error, greater_is_better=False),\n",
    "                                     \"MAE\": make_scorer(mean_absolute_error, greater_is_better=False)})\n",
    "\n",
    "# print(cv_results.keys())\n",
    "print(\"\\nRMSE para cada repetição: \\n\", (-cv_results[\"test_MSE\"]) ** (1 / 2))\n",
    "print(\"\\n\\nMAE para cada repetição: \\n\", -cv_results[\"test_MAE\"])\n",
    "\n",
    "print(\"\\n\\nRMSE médio: \", ((-cv_results[\"test_MSE\"]) ** (1 / 2)).mean())\n",
    "print(\"\\nMAE médio: \", (-cv_results[\"test_MAE\"]).mean())"
   ]
  }
 ],
 "metadata": {
  "kernelspec": {
   "display_name": "Python 3",
   "language": "python",
   "name": "python3"
  },
  "language_info": {
   "codemirror_mode": {
    "name": "ipython",
    "version": 3
   },
   "file_extension": ".py",
   "mimetype": "text/x-python",
   "name": "python",
   "nbconvert_exporter": "python",
   "pygments_lexer": "ipython3",
   "version": "3.7.7"
  }
 },
 "nbformat": 4,
 "nbformat_minor": 4
}
